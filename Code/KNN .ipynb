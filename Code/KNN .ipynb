{
 "cells": [
  {
   "cell_type": "code",
   "execution_count": null,
   "metadata": {
    "tags": []
   },
   "outputs": [],
   "source": [
    "import numpy as np\n",
    "import torch\n",
    "from sklearn.impute import KNNImputer\n",
    "from sklearn.metrics import mean_squared_error, mean_absolute_error\n",
    "import os\n",
    "\n",
    "dataset_file = 'RLD.csv'  \n",
    "\n",
    "\n",
    "if not os.path.isfile(dataset_file):\n",
    "    raise FileNotFoundError(f\"数据集文件未找到: {dataset_file}\")\n",
    "\n",
    "Data = np.loadtxt(dataset_file, delimiter=\",\", skiprows=1)\n",
    "\n",
    "\n",
    "No, Dim = Data.shape\n",
    "\n",
    "Min_Val = np.min(Data, axis=0)\n",
    "Max_Val = np.max(Data, axis=0)\n",
    "Data = (Data - Min_Val) / (Max_Val + 1e-6)\n",
    "\n",
    "p_miss = 0.1 \n",
    "p_miss_vec = p_miss * np.ones((Dim, 1))\n",
    "Missing = np.zeros((No, Dim))\n",
    "\n",
    "for i in range(Dim):\n",
    "    A = np.random.uniform(0., 1., size=No)\n",
    "    B = A > p_miss_vec[i]\n",
    "    Missing[:, i] = 1.0 * B\n",
    "\n",
    "\n",
    "idx = np.random.permutation(No)\n",
    "\n",
    "train_rate = 0.8  \n",
    "Train_No = int(No * train_rate)\n",
    "Test_No = No - Train_No\n",
    "\n",
    "\n",
    "trainX = Data[idx[:Train_No], :]\n",
    "testX = Data[idx[Train_No:], :]\n",
    "trainM = Missing[idx[:Train_No], :]\n",
    "testM = Missing[idx[Train_No:], :]"
   ]
  },
  {
   "cell_type": "code",
   "execution_count": null,
   "metadata": {
    "tags": []
   },
   "outputs": [],
   "source": [
    "knn_imputer = KNNImputer(n_neighbors=1)\n",
    "trainX_knn = trainX.copy()\n",
    "trainX_knn[trainM == 0] = np.nan\n",
    "\n",
    "testX_knn = testX.copy()\n",
    "testX_knn[testM == 0] = np.nan\n",
    "\n",
    "\n",
    "start_time = time.time()\n",
    "\n",
    "knn_imputer.fit(trainX_knn)\n",
    "trainX_filled_knn = knn_imputer.transform(trainX_knn)\n",
    "\n",
    "testX_filled_knn = knn_imputer.transform(testX_knn)  \n",
    "\n",
    "\n",
    "\n",
    "end_time = time.time()\n",
    "\n",
    "\n",
    "execution_time = end_time - start_time\n"
   ]
  },
  {
   "cell_type": "code",
   "execution_count": null,
   "metadata": {
    "tags": []
   },
   "outputs": [],
   "source": [
    "def compute_metrics(true_data, imputed_data, mask):\n",
    "    testX_filled_knn = knn_imputer.transform(testX_knn)\n",
    "    \n",
    "\n",
    "    missing_mask = (mask == 0)\n",
    "\n",
    "    mse = mean_squared_error(true_data[missing_mask], imputed_data[missing_mask])\n",
    "    mae = mean_absolute_error(true_data[missing_mask], imputed_data[missing_mask])\n",
    "    \n",
    "    rmse = np.sqrt(mse)\n",
    "\n",
    "    return mse, mae, rmse\n",
    "\n",
    "test_mse_knn, test_mae_knn, test_rmse_knn = compute_metrics(testX, testX_filled_knn, testM)"
   ]
  }
 ],
 "metadata": {
  "kernelspec": {
   "display_name": "Python 3 (ipykernel)",
   "language": "python",
   "name": "python3"
  },
  "language_info": {
   "codemirror_mode": {
    "name": "ipython",
    "version": 3
   },
   "file_extension": ".py",
   "mimetype": "text/x-python",
   "name": "python",
   "nbconvert_exporter": "python",
   "pygments_lexer": "ipython3",
   "version": "3.8.10"
  }
 },
 "nbformat": 4,
 "nbformat_minor": 4
}
