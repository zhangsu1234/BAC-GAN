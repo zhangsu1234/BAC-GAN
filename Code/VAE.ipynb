{
 "cells": [
  {
   "cell_type": "code",
   "execution_count": null,
   "metadata": {
    "tags": []
   },
   "outputs": [],
   "source": [
    "import os\n",
    "import numpy as np\n",
    "import pandas as pd\n",
    "import torch\n",
    "import torch.nn as nn\n",
    "import torch.optim as optim\n",
    "from torch.utils.data import DataLoader, Dataset, TensorDataset\n",
    "from sklearn.impute import KNNImputer\n",
    "from sklearn.metrics import mean_squared_error, mean_absolute_error\n",
    "import matplotlib.pyplot as plt\n",
    "import time \n",
    "torch.manual_seed(40)\n",
    "np.random.seed(40)\n",
    "device = torch.device(\"cuda\" if torch.cuda.is_available() else \"cpu\")"
   ]
  },
  {
   "cell_type": "code",
   "execution_count": null,
   "metadata": {
    "tags": []
   },
   "outputs": [],
   "source": [
    "\n",
    "dataset_file = 'RLD.csv' \n",
    "if not os.path.isfile(dataset_file):\n",
    "    raise FileNotFoundError(f\"数据集文件未找到: {dataset_file}\")\n",
    "Data = pd.read_csv(dataset_file).values  \n",
    "No, Dim = Data.shape\n",
    "\n",
    "Min_Val = np.min(Data, axis=0)\n",
    "Max_Val = np.max(Data, axis=0)\n",
    "Data = (Data - Min_Val) / (Max_Val + 1e-6)\n",
    "print(\"数据归一化完成。\")\n"
   ]
  },
  {
   "cell_type": "code",
   "execution_count": null,
   "metadata": {
    "tags": []
   },
   "outputs": [],
   "source": [
    "No, Dim = Data.shape\n",
    "p_miss = 0.1\n",
    "p_miss_vec = p_miss * np.ones((Dim, 1))\n",
    "Missing = np.zeros((No, Dim))\n",
    "\n",
    "for i in range(Dim):\n",
    "    A = np.random.uniform(0., 1., size=No)\n",
    "    B = A > p_miss_vec[i]\n",
    "    Missing[:, i] = 1.0 * B\n",
    "\n",
    "\n"
   ]
  },
  {
   "cell_type": "code",
   "execution_count": null,
   "metadata": {
    "tags": []
   },
   "outputs": [],
   "source": [
    "class DataImputationDataset(Dataset):\n",
    "    def __init__(self, data, missing, p_hint=0.9):\n",
    "        self.data = torch.tensor(data, dtype=torch.float32)\n",
    "        self.missing = torch.tensor(missing, dtype=torch.float32)\n",
    "        self.p_hint = p_hint\n",
    "        self.No, self.Dim = self.data.shape\n",
    "    \n",
    "    def __len__(self):\n",
    "        return self.No\n",
    "    \n",
    "    def __getitem__(self, idx):\n",
    "\n",
    "        X = self.data[idx]            \n",
    "        M = self.missing[idx]         \n",
    "        New_X = X * M                 \n",
    "    \n",
    "        H = self.sample_Hint(M)\n",
    "    \n",
    "        return New_X, M, X, H\n",
    "    \n",
    "    def sample_Hint(self, M):\n",
    "       \n",
    "        A = torch.rand(M.size())\n",
    "        B = A > self.p_hint\n",
    "        C = B.float()\n",
    "        H = C\n",
    "        return H\n",
    "\n",
    "\n",
    "p_hint = 0.9\n",
    "mb_size =16\n",
    "\n",
    "\n",
    "train_size = int(0.8 * No)\n",
    "test_size = No - train_size\n",
    "\n",
    "trainX = Data[:train_size]\n",
    "testX = Data[train_size:]\n",
    "trainM = Missing[:train_size]\n",
    "testM = Missing[train_size:]\n",
    "\n",
    "train_dataset = DataImputationDataset(trainX, trainM, p_hint=p_hint)\n",
    "test_dataset = DataImputationDataset(testX, testM, p_hint=p_hint)\n",
    "\n",
    "\n",
    "train_loader = DataLoader(train_dataset, batch_size=mb_size, shuffle=True, drop_last=True)\n",
    "test_loader = DataLoader(test_dataset, batch_size=mb_size, shuffle=False, drop_last=False)\n",
    "\n",
    "\n"
   ]
  },
  {
   "cell_type": "code",
   "execution_count": null,
   "metadata": {
    "tags": []
   },
   "outputs": [],
   "source": [
    "\n",
    "\n",
    "class VAE(nn.Module):\n",
    "    def __init__(self, input_dim, hidden_dim, latent_dim):\n",
    "        super(VAE, self).__init__()\n",
    "      \n",
    "        self.encoder = nn.Sequential(\n",
    "            nn.Linear(input_dim, hidden_dim),\n",
    "            nn.ReLU(),\n",
    "        )\n",
    "        self.fc_mu = nn.Linear(hidden_dim, latent_dim)\n",
    "        self.fc_logvar = nn.Linear(hidden_dim, latent_dim)\n",
    "        \n",
    "   \n",
    "        self.decoder = nn.Sequential(\n",
    "            nn.Linear(latent_dim, hidden_dim),\n",
    "            nn.ReLU(),\n",
    "            nn.Linear(hidden_dim, input_dim),\n",
    "            nn.Sigmoid(), \n",
    "        )\n",
    "        \n",
    "    def encode(self, x):\n",
    "        h = self.encoder(x)\n",
    "        mu = self.fc_mu(h)\n",
    "        logvar = self.fc_logvar(h)\n",
    "        return mu, logvar\n",
    "    \n",
    "    def reparameterize(self, mu, logvar):\n",
    "        std = torch.exp(0.5 * logvar)\n",
    "        eps = torch.randn_like(std)\n",
    "        return mu + eps * std\n",
    "    \n",
    "    def decode(self, z):\n",
    "        return self.decoder(z)\n",
    "    \n",
    "    def forward(self, x):\n",
    "        mu, logvar = self.encode(x)\n",
    "        z = self.reparameterize(mu, logvar)\n",
    "        recon_x = self.decode(z)\n",
    "        return recon_x, mu, logvar\n"
   ]
  },
  {
   "cell_type": "code",
   "execution_count": null,
   "metadata": {
    "tags": []
   },
   "outputs": [],
   "source": [
    "input_dim = Dim  \n",
    "hidden_dim = 64 \n",
    "latent_dim =64\n",
    "num_epochs =1000\n",
    "learning_rate =0.1\n",
    "\n",
    "vae = VAE(input_dim, hidden_dim, latent_dim).to(device)\n",
    "optimizer = optim.Adam(vae.parameters(), lr=learning_rate)\n",
    "reconstruction_loss = nn.MSELoss(reduction='sum')\n"
   ]
  },
  {
   "cell_type": "code",
   "execution_count": null,
   "metadata": {
    "tags": []
   },
   "outputs": [],
   "source": [
    "start_time = time.time() \n",
    "from tqdm import tqdm\n",
    "\n",
    "\n",
    "vae.train()\n",
    "for epoch in range(1, num_epochs + 1):\n",
    "    train_loss = 0\n",
    "    progress_bar = tqdm(train_loader, desc=f\"Epoch {epoch}/{num_epochs}\")\n",
    "    for batch_idx, (New_X, M, X, H) in enumerate(progress_bar):\n",
    "        New_X = New_X.to(device)  \n",
    "        M = M.to(device)          \n",
    "        X = X.to(device)        \n",
    "        optimizer.zero_grad()\n",
    "        recon_X, mu, logvar = vae(New_X)\n",
    "        loss_recon = reconstruction_loss(recon_X * M.float(), X * M.float())\n",
    "        loss_kl = -0.5 * torch.sum(1 + logvar - mu.pow(2) - logvar.exp())\n",
    "        \n",
    "        loss = loss_recon + loss_kl\n",
    "        loss.backward()\n",
    "        optimizer.step()\n",
    "        \n",
    "        train_loss += loss.item()\n",
    "        progress_bar.set_postfix({\"Loss\": loss.item() / train_size})\n",
    "    \n",
    "    avg_loss = train_loss / train_size\n",
    "    if epoch % 10 == 0 or epoch == 1:\n",
    "        end_time = time.time() \n",
    "elapsed_time = end_time - start_time\n"
   ]
  },
  {
   "cell_type": "code",
   "execution_count": null,
   "metadata": {
    "tags": []
   },
   "outputs": [],
   "source": [
    "\n",
    "\n",
    "vae.eval()\n",
    "with torch.no_grad():\n",
    "\n",
    "    test_New_X = testX \n",
    "    test_X = testX  \n",
    "    test_M = testM \n",
    "\n",
    "\n",
    "    test_New_X_filled = np.where(test_M, test_New_X, 0)\n",
    "    test_New_X_tensor = torch.tensor(test_New_X_filled, dtype=torch.float32).to(device)\n",
    "\n",
    "    recon_test_X, _, _ = vae(test_New_X_tensor)\n",
    "    recon_test_X = recon_test_X.cpu().numpy()\n",
    "\n",
    "    testX_imputed = test_New_X_filled.copy()\n",
    "    testX_imputed[~test_M.astype(bool)] = recon_test_X[~test_M.astype(bool)]\n",
    "\n"
   ]
  },
  {
   "cell_type": "code",
   "execution_count": null,
   "metadata": {
    "tags": []
   },
   "outputs": [],
   "source": [
    "def compute_metrics(true_data, imputed_data, mask):\n",
    "    \n",
    "    missing_mask = ~mask.astype(bool)\n",
    "    mse = mean_squared_error(true_data[missing_mask], imputed_data[missing_mask])\n",
    "    rmse = np.sqrt(mse)\n",
    "    mae = mean_absolute_error(true_data[missing_mask], imputed_data[missing_mask])\n",
    "    return mse, rmse, mae\n",
    "\n",
    "vae_mse, vae_rmse, vae_mae = compute_metrics(testX, testX_imputed, testM)\n",
    "\n"
   ]
  }
 ],
 "metadata": {
  "kernelspec": {
   "display_name": "Python 3 (ipykernel)",
   "language": "python",
   "name": "python3"
  },
  "language_info": {
   "codemirror_mode": {
    "name": "ipython",
    "version": 3
   },
   "file_extension": ".py",
   "mimetype": "text/x-python",
   "name": "python",
   "nbconvert_exporter": "python",
   "pygments_lexer": "ipython3",
   "version": "3.8.10"
  }
 },
 "nbformat": 4,
 "nbformat_minor": 4
}
